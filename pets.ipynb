{
 "cells": [
  {
   "cell_type": "code",
   "execution_count": 1,
   "id": "fc46ee7d",
   "metadata": {},
   "outputs": [
    {
     "name": "stdout",
     "output_type": "stream",
     "text": [
      "Environment loaded...\n",
      "Established connection to menagerie@mysql-demo.cmbtdssovehm.us-west-2.rds.amazonaws.com:3306\n",
      "Connection established using SQLAlchemy...\n",
      "\n",
      "Loading all the pets (from csv)\n",
      "\n",
      "       name   owner species sex       birth  death\n",
      "0    Fluffy  Harold     cat   f  1993-02-04    NaN\n",
      "1     Claws    Gwen     cat   m  1994-03-17    NaN\n",
      "2     Buffy  Harold     dog   f  1989-05-13    NaN\n",
      "3      Fang   Benny     dog   m  1990-08-27    NaN\n",
      "4    Bowser   Diane     dog   m  1979-08-31    NaN\n",
      "5    Chirpy    Gwen    bird   f  1998-09-11    NaN\n",
      "6  Whistler    Gwen    bird   f  1997-12-09    NaN\n",
      "7      Slim   Benny   snake   m  1996-04-29    NaN\n",
      "\n",
      "Inserting all the pets (into db)\n",
      "\n",
      "Selecting all the pets (from db)\n",
      "\n",
      "       name   owner species sex       birth death\n",
      "0    Fluffy  Harold     cat   f  1993-02-04  None\n",
      "1     Claws    Gwen     cat   m  1994-03-17  None\n",
      "2     Buffy  Harold     dog   f  1989-05-13  None\n",
      "3      Fang   Benny     dog   m  1990-08-27  None\n",
      "4    Bowser   Diane     dog   m  1979-08-31  None\n",
      "5    Chirpy    Gwen    bird   f  1998-09-11  None\n",
      "6  Whistler    Gwen    bird   f  1997-12-09  None\n",
      "7      Slim   Benny   snake   m  1996-04-29  None\n"
     ]
    }
   ],
   "source": [
    "%run pets.py"
   ]
  }
 ],
 "metadata": {
  "kernelspec": {
   "display_name": "Python 3",
   "language": "python",
   "name": "python3"
  },
  "language_info": {
   "codemirror_mode": {
    "name": "ipython",
    "version": 3
   },
   "file_extension": ".py",
   "mimetype": "text/x-python",
   "name": "python",
   "nbconvert_exporter": "python",
   "pygments_lexer": "ipython3",
   "version": "3.9.1"
  }
 },
 "nbformat": 4,
 "nbformat_minor": 5
}
